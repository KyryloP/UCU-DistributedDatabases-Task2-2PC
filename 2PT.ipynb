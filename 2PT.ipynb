{
 "cells": [
  {
   "cell_type": "code",
   "execution_count": null,
   "metadata": {},
   "outputs": [],
   "source": [
    "import psycopg2\n",
    "import datetime\n",
    "import time\n",
    "import threading"
   ]
  },
  {
   "cell_type": "code",
   "execution_count": null,
   "metadata": {},
   "outputs": [],
   "source": [
    "db_connection = \"dbname=ucu_ddb_t2 user=postgres password=***\""
   ]
  },
  {
   "cell_type": "code",
   "execution_count": null,
   "metadata": {},
   "outputs": [],
   "source": [
    "conn = psycopg2.connect(db_connection)\n",
    "cur = conn.cursor()\n",
    "dataCreatioinQuery = \"\"\"\n",
    "\n",
    "CREATE SCHEMA IF NOT EXISTS fly AUTHORIZATION postgres;\n",
    "CREATE SCHEMA IF NOT EXISTS hotel AUTHORIZATION postgres;\n",
    "CREATE SCHEMA IF NOT EXISTS account AUTHORIZATION postgres;\n",
    "\n",
    "DROP TABLE IF EXISTS fly.booking;\n",
    "DROP TABLE IF EXISTS hotel.booking;\n",
    "DROP TABLE IF EXISTS account.balance;\n",
    "\n",
    "CREATE TABLE fly.Booking (\n",
    "\tBookingID  serial primary key,\n",
    "\tOrderID char(12) unique,\n",
    "\tClientName varchar (255) not null,\n",
    "\tFlyNumber varchar(10) not null,\n",
    "\tFromIATA char(3) not null,\n",
    "\tToIATA char(3) not null,\n",
    "\tDate date not null\n",
    ");\n",
    "\n",
    "CREATE TABLE hotel.Booking (\n",
    "\tBookingID  serial primary key,\n",
    "\tOrderID char(12) unique,\n",
    "\tClientName varchar (255) not null,\n",
    "\tHotelName varchar(255) not null,\n",
    "\tArrival date not null,\n",
    "\tDeparture date not null\n",
    ");\n",
    "\n",
    "CREATE TABLE account.balance (\n",
    "\tAccountID  serial primary key,\n",
    "\tClientName varchar (255) not null,\n",
    "\tAmount decimal(15,2) CHECK (Amount >= 0)\n",
    ") ;\n",
    "\n",
    "INSERT INTO account.balance (ClientName, Amount)  VALUES ('Nick', 200);\n",
    "\n",
    "\"\"\"\n",
    "\n",
    "cur.execute(dataCreatioinQuery)\n",
    "conn.commit()\n",
    "conn.close()"
   ]
  },
  {
   "cell_type": "code",
   "execution_count": null,
   "metadata": {},
   "outputs": [],
   "source": [
    "# Configuring participandsqueries for each process\n",
    "parts = {\n",
    "    \"fly\": {\n",
    "        \"process\": \"Booking tickets\",\n",
    "        \"query\": \"\"\" INSERT INTO fly.booking (OrderID, ClientName, FlyNumber, FromIATA, ToIATA, Date) \n",
    "                     VALUES (%(OrderID)s, %(ClientName)s, %(FlyNumber)s, %(From)s, %(To)s, %(FlightDate)s); \"\"\"\n",
    "    },\n",
    "    \"hotel\": {\n",
    "        \"process\": \"Booking hotel\",\n",
    "        \"query\": \"\"\" INSERT INTO hotel.booking (OrderID, ClientName, HotelName, Arrival, Departure) \n",
    "                     VALUES (%(OrderID)s, %(ClientName)s, %(Hotel)s, %(ArrivalDate)s, %(DepartureDate)s); \"\"\"\n",
    "    },\n",
    "    \"account\": {\n",
    "        \"process\": \"Payment processing\",\n",
    "        \"query\": \"\"\" UPDATE account.balance \n",
    "                     SET amount = amount - %(Amount)s where AccountID = %(AccoundID)s;\n",
    "                \"\"\"\n",
    "    }\n",
    "}"
   ]
  },
  {
   "cell_type": "code",
   "execution_count": null,
   "metadata": {},
   "outputs": [],
   "source": [
    "def Prepare2PC(order, part, results):\n",
    "    global db_connection, parts\n",
    "\n",
    "    # connection to database\n",
    "    conn = psycopg2.connect(db_connection)\n",
    "    cur = conn.cursor()\n",
    "\n",
    "    transaction_id = conn.xid(1, parts[part]['process'], order['OrderID'])\n",
    "    \n",
    "    try: # transaction preparation\n",
    "        conn.tpc_begin(transaction_id)\n",
    "        cur.execute(parts[part][\"query\"], order)\n",
    "        conn.tpc_prepare()\n",
    "        result = {\"process\": parts[part]['process'], \"status\": \"WAIT\", \"details\": \"OK\", \"transaction_id\": transaction_id}\n",
    "        print(parts[part]['process'] + ' - WAIT for commit or rollback')\n",
    "\n",
    "    except Exception as ex: # exception handling with passing ABORT status\n",
    "        result = {\"process\": parts[part]['process'], \"status\": \"ABORT\", \"details\": str(ex), \"transaction_id\": transaction_id}\n",
    "        print(parts[part]['process'] + ' - ABORT - ' + str(ex))\n",
    "\n",
    "    results[part] = result\n",
    "    conn.close()\n"
   ]
  },
  {
   "cell_type": "code",
   "execution_count": null,
   "metadata": {},
   "outputs": [],
   "source": [
    "def Finish2PC(transaction, part,  decision, testLock):\n",
    "    global db_connection, parts\n",
    "    \n",
    "    # condition to simulate coonection lock\n",
    "    if part in testLock:\n",
    "        return\n",
    "\n",
    "    conn = psycopg2.connect(db_connection)\n",
    "    if decision == 'COMMIT':\n",
    "        conn.tpc_commit(transaction[part]['transaction_id'])\n",
    "        transaction[part]['status'] = decision\n",
    "    elif decision == 'ABORT':\n",
    "        conn.tpc_rollback(transaction[part]['transaction_id'])\n",
    "        transaction[part]['status'] = decision\n",
    "    else:\n",
    "        print (\"Decision could accept values COMMIT or ABORT only\")\n",
    "        return \n",
    "    \n",
    "    print(parts[part]['process'] +' - ' + decision + 'ed')\n",
    "    conn.close()"
   ]
  },
  {
   "cell_type": "code",
   "execution_count": null,
   "metadata": {},
   "outputs": [],
   "source": [
    "order = {\n",
    "    \"OrderID\": \"20211217-002\",\n",
    "    \"ClientName\": \"Nik\",\n",
    "    \"AccoundID\": 1,\n",
    "    \"From\": \"KBP\",\n",
    "    \"To\": \"AMS\",\n",
    "    \"FlyNumber\": \"PS 1442\",\n",
    "    \"FlightDate\": datetime.datetime(2021, 12, 31),\n",
    "    \"Hotel\": \"Super puper Luxury\",\n",
    "    \"ArrivalDate\": datetime.datetime(2021, 12, 31),\n",
    "    \"DepartureDate\": datetime.datetime(2022, 1, 4),\n",
    "    \"Amount\": 100.00\n",
    "}"
   ]
  },
  {
   "cell_type": "code",
   "execution_count": null,
   "metadata": {},
   "outputs": [],
   "source": [
    "results = {}\n",
    "\n",
    "print('Preparing 2PC transaction for Order #'+order['OrderID'])\n",
    "\n",
    "# Preparing transactions in separate threads for each participant\n",
    "for p in parts:\n",
    "    prepareThread = threading.Thread(target=Prepare2PC, args=(order, p, results, ))\n",
    "    prepareThread.start()\n",
    "\n",
    "# Waiting for responces from all participants\n",
    "while True:\n",
    "    time.sleep(1)\n",
    "    if len(results.keys()) == len(parts):\n",
    "        break\n",
    "    else:\n",
    "        statuses = ''\n",
    "        for p in parts:\n",
    "            status = ' - PREPARED; ' if p in results else ' - NOT RESPONDED YET; ' \n",
    "            statuses = statuses + parts[p]['process'] + status\n",
    "        print ('Waiting for all responces ... ' + statuses) \n",
    "        "
   ]
  },
  {
   "cell_type": "code",
   "execution_count": null,
   "metadata": {},
   "outputs": [],
   "source": [
    "# Decision to COMMIT or ABORT \n",
    "decision = 'COMMIT'\n",
    "for p in results:\n",
    "    if results[p]['status'] != 'WAIT':\n",
    "        decision = 'ABORT'\n",
    "        break\n",
    "print ('Transaction decision - ' + decision)"
   ]
  },
  {
   "cell_type": "code",
   "execution_count": null,
   "metadata": {},
   "outputs": [],
   "source": [
    "print('Finish 2PC Trnasaction #'+order['OrderID'] + 'with decision to '+ decision)\n",
    "for p in parts:\n",
    "    if results[p]['status']=='WAIT':\n",
    "        rt = threading.Thread(target=Finish2PC, args=(results, p, decision, ['account'], ))\n",
    "        rt.start()"
   ]
  },
  {
   "cell_type": "code",
   "execution_count": null,
   "metadata": {},
   "outputs": [],
   "source": [
    "# Block of code to look for prepared and unfinished transactions\n",
    "conn = psycopg2.connect(db_connection)\n",
    "conn.tpc_recover()\n"
   ]
  },
  {
   "cell_type": "code",
   "execution_count": null,
   "metadata": {},
   "outputs": [],
   "source": [
    "# closing prepared transactions\n",
    "decision = 'COMMIT'\n",
    "for t in conn.tpc_recover():\n",
    "    if decision == 'COMMIT':\n",
    "        conn.tpc_commit(t)\n",
    "    elif decision == 'ABORT':\n",
    "        conn.tpc_rollback(t)\n",
    "    else:\n",
    "        print (\"Decision could accept values COMMIT or ABORT only\")\n",
    "    \n",
    "conn.close()"
   ]
  },
  {
   "cell_type": "code",
   "execution_count": null,
   "metadata": {},
   "outputs": [],
   "source": []
  }
 ],
 "metadata": {
  "interpreter": {
   "hash": "1baa965d5efe3ac65b79dfc60c0d706280b1da80fedb7760faf2759126c4f253"
  },
  "kernelspec": {
   "display_name": "Python 3.8.4 64-bit",
   "language": "python",
   "name": "python3"
  },
  "language_info": {
   "codemirror_mode": {
    "name": "ipython",
    "version": 3
   },
   "file_extension": ".py",
   "mimetype": "text/x-python",
   "name": "python",
   "nbconvert_exporter": "python",
   "pygments_lexer": "ipython3",
   "version": "3.8.4"
  },
  "orig_nbformat": 4
 },
 "nbformat": 4,
 "nbformat_minor": 2
}
